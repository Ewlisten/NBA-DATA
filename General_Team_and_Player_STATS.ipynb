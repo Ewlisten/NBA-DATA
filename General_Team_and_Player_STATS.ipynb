{
  "nbformat": 4,
  "nbformat_minor": 0,
  "metadata": {
    "colab": {
      "provenance": [],
      "authorship_tag": "ABX9TyNvvgKW26I2J01ahqjdhU7v"
    },
    "kernelspec": {
      "name": "python3",
      "display_name": "Python 3"
    },
    "language_info": {
      "name": "python"
    }
  },
  "cells": [
    {
      "cell_type": "code",
      "source": [
        "pip install nba_api"
      ],
      "metadata": {
        "colab": {
          "base_uri": "https://localhost:8080/"
        },
        "collapsed": true,
        "id": "RW_NuGLK2xXD",
        "outputId": "61721e08-7088-4b76-aaec-b795fb276636"
      },
      "execution_count": null,
      "outputs": [
        {
          "output_type": "stream",
          "name": "stdout",
          "text": [
            "Collecting nba_api\n",
            "  Downloading nba_api-1.9.0-py3-none-any.whl.metadata (5.8 kB)\n",
            "Requirement already satisfied: numpy>=1.26.0 in /usr/local/lib/python3.11/dist-packages (from nba_api) (2.0.2)\n",
            "Requirement already satisfied: pandas>=2.1.0 in /usr/local/lib/python3.11/dist-packages (from nba_api) (2.2.2)\n",
            "Requirement already satisfied: requests<3.0.0,>=2.32.3 in /usr/local/lib/python3.11/dist-packages (from nba_api) (2.32.3)\n",
            "Requirement already satisfied: python-dateutil>=2.8.2 in /usr/local/lib/python3.11/dist-packages (from pandas>=2.1.0->nba_api) (2.8.2)\n",
            "Requirement already satisfied: pytz>=2020.1 in /usr/local/lib/python3.11/dist-packages (from pandas>=2.1.0->nba_api) (2025.2)\n",
            "Requirement already satisfied: tzdata>=2022.7 in /usr/local/lib/python3.11/dist-packages (from pandas>=2.1.0->nba_api) (2025.2)\n",
            "Requirement already satisfied: charset-normalizer<4,>=2 in /usr/local/lib/python3.11/dist-packages (from requests<3.0.0,>=2.32.3->nba_api) (3.4.1)\n",
            "Requirement already satisfied: idna<4,>=2.5 in /usr/local/lib/python3.11/dist-packages (from requests<3.0.0,>=2.32.3->nba_api) (3.10)\n",
            "Requirement already satisfied: urllib3<3,>=1.21.1 in /usr/local/lib/python3.11/dist-packages (from requests<3.0.0,>=2.32.3->nba_api) (2.3.0)\n",
            "Requirement already satisfied: certifi>=2017.4.17 in /usr/local/lib/python3.11/dist-packages (from requests<3.0.0,>=2.32.3->nba_api) (2025.1.31)\n",
            "Requirement already satisfied: six>=1.5 in /usr/local/lib/python3.11/dist-packages (from python-dateutil>=2.8.2->pandas>=2.1.0->nba_api) (1.17.0)\n",
            "Downloading nba_api-1.9.0-py3-none-any.whl (284 kB)\n",
            "\u001b[2K   \u001b[90m━━━━━━━━━━━━━━━━━━━━━━━━━━━━━━━━━━━━━━━━\u001b[0m \u001b[32m284.9/284.9 kB\u001b[0m \u001b[31m4.3 MB/s\u001b[0m eta \u001b[36m0:00:00\u001b[0m\n",
            "\u001b[?25hInstalling collected packages: nba_api\n",
            "Successfully installed nba_api-1.9.0\n"
          ]
        }
      ]
    },
    {
      "cell_type": "code",
      "execution_count": null,
      "metadata": {
        "id": "XKcFHuMP2Spz"
      },
      "outputs": [],
      "source": [
        "def get_team_id():\n",
        "    from nba_api.stats.static import teams\n",
        "    nba_teams = teams.get_teams()\n",
        "    team_abbreviation = input(\"Enter team abbreviation (e.g., 'BOS' for Boston Celtics): \").upper()\n",
        "    team_info = [team for team in nba_teams if team['abbreviation'] == team_abbreviation]\n",
        "    if team_info:\n",
        "        team_id = team_info[0]['id']\n",
        "        team_name = team_info[0]['full_name']\n",
        "        print(f\"Team ID for {team_name} is {team_id}\")\n",
        "        return team_id\n",
        "    else:\n",
        "        print(\"Team not found. Please check the abbreviation and try again.\")\n",
        "        return None\n",
        "team_id = get_team_id()\n"
      ]
    },
    {
      "cell_type": "markdown",
      "source": [
        "A TEAM ID CAN BE USED TO FIND PLAYERS, BOXSCORES, AND MANY OTHERS"
      ],
      "metadata": {
        "id": "gGQDT4Sn28sT"
      }
    },
    {
      "cell_type": "code",
      "source": [
        "def get_player_id():\n",
        "    # How to player ID, NEED THIS FOR MOST ACTION\n",
        "    from nba_api.stats.static import players\n",
        "    player_dict = players.get_players()\n",
        "    player_name = input(\"Please enter player name: \") ##SPELL CORRECTLY!!\n",
        "    player_info = [player for player in player_dict if player['full_name'] == player_name][0] #this is the actual search,\n",
        "    player_id = player_info['id']\n",
        "    return player_id\n",
        "player_id = get_player_id()\n",
        "print(f\"Your player ID is: {player_id}\")"
      ],
      "metadata": {
        "colab": {
          "base_uri": "https://localhost:8080/"
        },
        "id": "R7-ub-PN4V1I",
        "outputId": "b1d85257-3d82-425b-d96e-371e5019a300"
      },
      "execution_count": null,
      "outputs": [
        {
          "output_type": "stream",
          "name": "stdout",
          "text": [
            "Please enter player name: Jimmy Butler III\n",
            "Your player ID is: 202710\n"
          ]
        }
      ]
    },
    {
      "cell_type": "markdown",
      "source": [
        "Get player retrieves a Player_ID, Useful for many of the calls below"
      ],
      "metadata": {
        "id": "RMmdeaPl4fOp"
      }
    },
    {
      "cell_type": "code",
      "source": [
        "from nba_api.stats.endpoints import leaguegamefinder\n",
        "import pandas as pd\n",
        "\n",
        "def get_team_game_logs():\n",
        "    team_id = input(\"Enter the Team ID: \")\n",
        "\n",
        "    try:\n",
        "        # Search for games for the given team ID\n",
        "        gamefinder = leaguegamefinder.LeagueGameFinder(team_id_nullable=team_id)\n",
        "        games_df = gamefinder.get_data_frames()[0]\n",
        "        if games_df.empty:\n",
        "            print(f\"No game logs found for Team ID: {team_id}.\")\n",
        "            return None\n",
        "\n",
        "        # Filter and display the game logs for the 2024 season\n",
        "        season_games = games_df[games_df.SEASON_ID.str[-4:] == '2024'] #<--- Switch season if needed\n",
        "        if season_games.empty:\n",
        "            print(f\"No games found for Team ID: {team_id} in the 2024 season.\")\n",
        "            return None\n",
        "\n",
        "        print(season_games[['GAME_DATE','GAME_ID', 'MATCHUP', 'WL', 'PTS', 'REB', 'AST', 'FG3M','FG3A', 'STL', 'BLK', 'PLUS_MINUS']].to_string(max_rows=None))  # Display the filtered DataFrame\n",
        "        return season_games\n",
        "\n",
        "    except Exception as e:\n",
        "        print(f\"An error occurred: {e}\")\n",
        "team_logs = get_team_game_logs()\n"
      ],
      "metadata": {
        "id": "zFFHK3EY5axc"
      },
      "execution_count": null,
      "outputs": []
    },
    {
      "cell_type": "markdown",
      "source": [
        "get_team_game_logs returns a dataframe full of the recent matchups for the team entered"
      ],
      "metadata": {
        "id": "mWRHU-ZT8UXT"
      }
    },
    {
      "cell_type": "code",
      "source": [
        "from nba_api.stats.endpoints import playergamelog\n",
        "import pandas as pd\n",
        "\n",
        "def get_player_game_logs():\n",
        "    player_id = input(\"Enter the Player ID: \")\n",
        "\n",
        "    try:\n",
        "        gamefinder = playergamelog.PlayerGameLog(player_id=player_id, season='2024-25')\n",
        "        games_df = gamefinder.get_data_frames()[0]\n",
        "\n",
        "        if games_df.empty:\n",
        "            print(f\"No game logs found for Player ID: {player_id}.\")\n",
        "            return None\n",
        "\n",
        "        print(games_df[['GAME_DATE', 'MATCHUP', 'WL', 'PTS', 'REB', 'AST', 'FG3M', 'FG3A', 'STL', 'BLK', 'PLUS_MINUS']].to_string())\n",
        "\n",
        "        return games_df\n",
        "\n",
        "    except Exception as e:\n",
        "        print(f\"An error occurred: {e}\")\n"
      ],
      "metadata": {
        "id": "u6vHgU9J6PoG"
      },
      "execution_count": null,
      "outputs": []
    },
    {
      "cell_type": "markdown",
      "source": [
        "get_player_game_logs works similarly to get_team_logs just for players"
      ],
      "metadata": {
        "id": "w_XHGcld8gOX"
      }
    },
    {
      "cell_type": "code",
      "source": [
        "def pullplayer():\n",
        "    from nba_api.stats.endpoints import playercareerstats\n",
        "    player_id = input(\"Enter Player ID for career stats \")\n",
        "    career = playercareerstats.PlayerCareerStats(player_id)\n",
        "    career_df = career.get_data_frames()[0]\n",
        "    return career_df\n",
        "careerstats = pullplayer()\n",
        "print(f\"{careerstats}\")"
      ],
      "metadata": {
        "id": "NWmNr5CV8P-h"
      },
      "execution_count": null,
      "outputs": []
    },
    {
      "cell_type": "markdown",
      "source": [
        "pull players pulls their complete career history"
      ],
      "metadata": {
        "id": "Og_CcTA68ybz"
      }
    },
    {
      "cell_type": "code",
      "source": [
        "def boxsc():\n",
        "    from nba_api.stats.endpoints import boxscoretraditionalv2\n",
        "    usergame_id = input(\"Enter Game ID (No spaces): \")\n",
        "    stats = boxscoretraditionalv2.BoxScoreTraditionalV2(game_id= usergame_id)\n",
        "    stats_df = stats.get_data_frames()[0]\n",
        "    print (stats_df[['PLAYER_ID','PLAYER_NAME', 'PTS', 'REB', 'AST', 'FG3M','FG3A', 'STL', 'BLK']])\n",
        "boxsc()"
      ],
      "metadata": {
        "id": "B_xNlIAR9NyV"
      },
      "execution_count": null,
      "outputs": []
    }
  ]
}