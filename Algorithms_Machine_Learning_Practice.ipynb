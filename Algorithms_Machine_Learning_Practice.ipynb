{
  "nbformat": 4,
  "nbformat_minor": 0,
  "metadata": {
    "colab": {
      "provenance": [],
      "authorship_tag": "ABX9TyMCOD21dF4Mqt+oxhd8lmTD"
    },
    "kernelspec": {
      "name": "python3",
      "display_name": "Python 3"
    },
    "language_info": {
      "name": "python"
    }
  },
  "cells": [
    {
      "cell_type": "code",
      "execution_count": 3,
      "metadata": {
        "colab": {
          "base_uri": "https://localhost:8080/"
        },
        "collapsed": true,
        "id": "cfrznhrAfmP3",
        "outputId": "9c4deba2-6c77-43cd-fd46-fd30100dd325"
      },
      "outputs": [
        {
          "output_type": "stream",
          "name": "stdout",
          "text": [
            "Collecting nba_api\n",
            "  Downloading nba_api-1.9.0-py3-none-any.whl.metadata (5.8 kB)\n",
            "Requirement already satisfied: numpy>=1.26.0 in /usr/local/lib/python3.11/dist-packages (from nba_api) (2.0.2)\n",
            "Requirement already satisfied: pandas>=2.1.0 in /usr/local/lib/python3.11/dist-packages (from nba_api) (2.2.2)\n",
            "Requirement already satisfied: requests<3.0.0,>=2.32.3 in /usr/local/lib/python3.11/dist-packages (from nba_api) (2.32.3)\n",
            "Requirement already satisfied: python-dateutil>=2.8.2 in /usr/local/lib/python3.11/dist-packages (from pandas>=2.1.0->nba_api) (2.8.2)\n",
            "Requirement already satisfied: pytz>=2020.1 in /usr/local/lib/python3.11/dist-packages (from pandas>=2.1.0->nba_api) (2025.2)\n",
            "Requirement already satisfied: tzdata>=2022.7 in /usr/local/lib/python3.11/dist-packages (from pandas>=2.1.0->nba_api) (2025.2)\n",
            "Requirement already satisfied: charset-normalizer<4,>=2 in /usr/local/lib/python3.11/dist-packages (from requests<3.0.0,>=2.32.3->nba_api) (3.4.1)\n",
            "Requirement already satisfied: idna<4,>=2.5 in /usr/local/lib/python3.11/dist-packages (from requests<3.0.0,>=2.32.3->nba_api) (3.10)\n",
            "Requirement already satisfied: urllib3<3,>=1.21.1 in /usr/local/lib/python3.11/dist-packages (from requests<3.0.0,>=2.32.3->nba_api) (2.3.0)\n",
            "Requirement already satisfied: certifi>=2017.4.17 in /usr/local/lib/python3.11/dist-packages (from requests<3.0.0,>=2.32.3->nba_api) (2025.1.31)\n",
            "Requirement already satisfied: six>=1.5 in /usr/local/lib/python3.11/dist-packages (from python-dateutil>=2.8.2->pandas>=2.1.0->nba_api) (1.17.0)\n",
            "Downloading nba_api-1.9.0-py3-none-any.whl (284 kB)\n",
            "\u001b[2K   \u001b[90m━━━━━━━━━━━━━━━━━━━━━━━━━━━━━━━━━━━━━━━━\u001b[0m \u001b[32m284.9/284.9 kB\u001b[0m \u001b[31m6.2 MB/s\u001b[0m eta \u001b[36m0:00:00\u001b[0m\n",
            "\u001b[?25hInstalling collected packages: nba_api\n",
            "Successfully installed nba_api-1.9.0\n"
          ]
        }
      ],
      "source": [
        "!pip install nba_api"
      ]
    },
    {
      "cell_type": "code",
      "source": [
        "import numpy as np\n",
        "import pandas as pd\n",
        "from nba_api.stats.endpoints import playercareerstats, playerawards\n",
        "from bokeh.plotting import figure, show\n",
        "from bokeh.models import HoverTool, ColumnDataSource\n",
        "\n",
        "\n",
        "def calculate_career_score(player_id, award_weights, position_weights):\n",
        "    career_stats = playercareerstats.PlayerCareerStats(player_id).get_data_frames()[0]\n",
        "    awards_df = playerawards.PlayerAwards(player_id).get_data_frames()[0]\n",
        "\n",
        "    stats_per_game = {stat: career_stats[stat].sum() / career_stats['GP'].sum() for stat in ['PTS', 'REB', 'AST', 'STL', 'BLK', 'TOV', 'FG3M', 'FG3A']}\n",
        "    role = classify_player(stats_per_game)\n",
        "\n",
        "\n",
        "    # Normalize stats based on player role\n",
        "    norm_stats = normalize_stats(stats_per_game, position_weights.get(role, {}))  # Normalize based on the role's weights\n",
        "    # Calculate weighted award score\n",
        "    parsed_awards = parse_awards(awards_df)\n",
        "    weighted_awards_score = 0\n",
        "    for award, count in parsed_awards.items():\n",
        "        if award in award_weights:\n",
        "            weighted_awards_score += count * award_weights[award]\n",
        "\n",
        "    # Combine stats and awards into a total career score\n",
        "    total_score = sum(norm_stats.values()) + weighted_awards_score\n",
        "\n",
        "    return total_score\n",
        "\n",
        "def classify_player(stats):\n",
        "    thresholds = {\n",
        "        \"Rim Protector\": {\"BLK\": 2.0, \"REB\": 8.0},\n",
        "        \"3PT Specialist\": {\"FG3M\": 2.5, \"FG3A\": 6.0},\n",
        "        \"Playmaker\": {\"AST\": 6.0, \"TOV\": 2.5},\n",
        "        \"Scorer\": {\"PTS\": 20.0, \"FGA\": 15.0},\n",
        "    }\n",
        "    #^^^^MORE STYLES OF PLAY CAN BE ADDED^^^^^\n",
        "    for role, criteria in thresholds.items():\n",
        "        if all(stats.get(stat, 0) >= value for stat, value in criteria.items()):\n",
        "            return role\n",
        "    return \"Position-Based\"\n",
        "\n",
        "def normalize_stats(stats, weights):\n",
        "    norm_stats = {}\n",
        "    for stat, value in stats.items():\n",
        "        norm_stats[stat] = value * weights.get(stat, 1.0)\n",
        "    return norm_stats\n",
        "\n",
        "def parse_awards(awards_df):\n",
        "    important_awards = {\n",
        "        \"NBA Most Valuable Player\": \"MVP\",\n",
        "        \"Rookie of the Year\": \"ROY\",\n",
        "        \"Defensive Player of the Year\": \"DPOY\",\n",
        "        \"Sixth Man of the Year\": \"6MOY\",\n",
        "        \"NBA Finals Most Valuable Player\": \"Finals MVP\",\n",
        "        \"All-Defensive Team\": \"All-Defensive\",\n",
        "        \"NBA Defensive Player of the Year\": \"DPOY\",\n",
        "        \"NBA Champion\": \"Champ\",\n",
        "        \"NBA All-Star\": \"All-Star\",\n",
        "    }\n",
        "    parsed_awards = {award: 0 for award in important_awards.values()}\n",
        "    all_nba_teams = set()\n",
        "\n",
        "    for _, row in awards_df.iterrows():\n",
        "        award_name = row['DESCRIPTION']\n",
        "\n",
        "        # Count important awards\n",
        "        if award_name in important_awards:\n",
        "            parsed_awards[important_awards[award_name]] += 1\n",
        "\n",
        "        # count all nba\n",
        "        if \"All-NBA\" in award_name and \"ALL_NBA_TEAM_NUMBER\" in row and pd.notna(row[\"ALL_NBA_TEAM_NUMBER\"]):\n",
        "            team_number = int(row[\"ALL_NBA_TEAM_NUMBER\"])\n",
        "            all_nba_teams.add(team_number)\n",
        "\n",
        "    # Add unique All-NBA counts\n",
        "    for team_number in sorted(all_nba_teams):\n",
        "        suffix = \"st\" if team_number == 1 else \"nd\" if team_number == 2 else \"rd\"\n",
        "        parsed_awards[f\"All-NBA {team_number}{suffix} Team\"] = list(all_nba_teams).count(team_number)\n",
        "\n",
        "    return parsed_awards\n",
        "\n",
        "award_weights = {\n",
        "    \"MVP\": 10.0,\n",
        "    \"ROY\": 5.0,\n",
        "    \"DPOY\": 7.0,\n",
        "    \"6MOY\": 4.0,\n",
        "    \"Finals MVP\": 12.0,\n",
        "    \"All-Defensive\": 6.0,\n",
        "    \"Champ\": 8.0,\n",
        "    \"All-Star\": 5.0,\n",
        "    \"All-NBA 1st Team\": 9.0,\n",
        "    \"All-NBA 2nd Team\": 7.0,\n",
        "    \"All-NBA 3rd Team\": 6.0\n",
        "}\n",
        "\n",
        "position_weights = {\n",
        "    \"Rim Protector\": {\"BLK\": 1.5, \"REB\": 1.2},\n",
        "    \"3PT Specialist\": {\"FG3M\": 1.5, \"FG3A\": 1.3},\n",
        "    \"Playmaker\": {\"AST\": 1.4, \"TOV\": -0.5},\n",
        "    \"Scorer\": {\"PTS\": 1.5, \"FGA\": 1.2},\n",
        "    \"Position-Based\": {stat: 1.0 for stat in [\"PTS\", \"REB\", \"AST\", \"STL\", \"BLK\", \"TOV\", \"FG3M\", \"FG3A\"]},\n",
        "}\n",
        "\n",
        "\n",
        "player_id = input(\"Enter Player ID: \")\n",
        "career_score = calculate_career_score(player_id, award_weights, position_weights)\n",
        "print(f\"Career Score: {career_score}\")\n"
      ],
      "metadata": {
        "colab": {
          "base_uri": "https://localhost:8080/"
        },
        "id": "ySiNkGbsif4t",
        "outputId": "ce700fe6-338d-40a2-fb70-af31df0683c7"
      },
      "execution_count": 4,
      "outputs": [
        {
          "output_type": "stream",
          "name": "stdout",
          "text": [
            "Enter Player ID: 201939\n",
            "Career Score: 194.77456140350876\n"
          ]
        }
      ]
    },
    {
      "cell_type": "markdown",
      "source": [
        "calculate_career_score is a function that gives a score based on a players career.\n",
        "\n",
        "\n",
        "FIRST takes their per game averages and i they reach a threshold of a certain stat they will be catergorize in play style RIM PROTECTOR , 3PT SHOOTER, PLAYMAKER, SCORER. If none of the catergories fit it will go back to position based.\n",
        "\n",
        "NEXT Normalized those stats to the catergories. Calculates in the awards whatever weight is given. THEN the score is calulated like total_score = sum(norm_stats.values()) + weighted_awards_score\n",
        "\n",
        "I would LOVE to start Machine Learning with this function."
      ],
      "metadata": {
        "id": "PpdLTz8Xk3jL"
      }
    },
    {
      "cell_type": "code",
      "source": [
        "import pandas as pd\n",
        "import time\n",
        "from nba_api.stats.endpoints import playercareerstats, playerawards\n",
        "\n",
        "# player list\n",
        "players = [\n",
        "    (\"Michael Jordan\", \"893\"), (\"LeBron James\", \"2544\"), (\"Tim Duncan\", \"1495\"),\n",
        "    (\"Isiah Thomas\", \"78318\"), (\"Stephen Curry\", \"201939\"), (\"Nikola Jokić\", \"203999\"),\n",
        "    (\"Jayson Tatum\", \"1628369\"), (\"David Thompson\", \"78326\"), (\"Giannis Antetokounmpo\", \"203507\"),\n",
        "    (\"James Harden\", \"201935\"), (\"Bernard King\", \"77264\"), (\"Kobe Bryant\", \"977\"),\n",
        "    (\"Steve Nash\", \"959\"), (\"Luka Dončić\", \"1629029\"), (\"Dirk Nowitzki\", \"1717\"),\n",
        "    (\"Kevin Garnett\", \"708\"), (\"Kawhi Leonard\", \"202695\"),(\"Tracy McGrady\",\"1503\"),\n",
        "    (\"Shai Gilgeous-Alexander\",\"1628983\"),(\"Magic Johnson\", \"77142\"), (\"Larry Bird\", \"1449\"),\n",
        "    (\"Kareem Abdul-Jabbar\", \"76003\")\n",
        "]\n",
        "\n",
        "def get_player_data(player_id):\n",
        "    \"\"\"Fetch career stats & awards for a player.\"\"\"\n",
        "    try:\n",
        "        time.sleep(2)\n",
        "        # collect career stats\n",
        "        career = playercareerstats.PlayerCareerStats(player_id).get_data_frames()[0]\n",
        "        career[\"PTS/G\"] = career[\"PTS\"] / career[\"GP\"]\n",
        "        career[\"REB/G\"] = career[\"REB\"] / career[\"GP\"]\n",
        "        career[\"AST/G\"] = career[\"AST\"] / career[\"GP\"]\n",
        "        career[\"FG%\"] = career[\"FGM\"] / career[\"FGA\"]\n",
        "        career[\"Seasons_Played\"] = len(career[\"SEASON_ID\"].unique())\n",
        "\n",
        "        # collect awards\n",
        "        awards_df = playerawards.PlayerAwards(player_id).get_data_frames()[0]\n",
        "        awards = {\"MVPs\": 0, \"All-Stars\": 0, \"Championships\": 0}\n",
        "\n",
        "        for _, row in awards_df.iterrows():\n",
        "            if \"NBA Most Valuable Player\" in row[\"DESCRIPTION\"]:\n",
        "                awards[\"MVPs\"] += 1\n",
        "            elif \"NBA All-Star\" in row[\"DESCRIPTION\"]:\n",
        "                awards[\"All-Stars\"] += 1\n",
        "            elif \"NBA Champion\" in row[\"DESCRIPTION\"]:\n",
        "                awards[\"Championships\"] += 1\n",
        "\n",
        "        #  assume hall of fame problability with all stars\n",
        "        hof_status = 1 if awards[\"MVPs\"] > 0 or awards[\"All-Stars\"] > 5 else 0\n",
        "\n",
        "        features = {\n",
        "            \"Player_ID\": player_id, \"PTS/G\": career[\"PTS/G\"].values[0], \"REB/G\": career[\"REB/G\"].values[0],\n",
        "            \"AST/G\": career[\"AST/G\"].values[0], \"FG%\": career[\"FG%\"].values[0], \"Seasons_Played\": career[\"Seasons_Played\"].values[0],\n",
        "            \"MVPs\": awards[\"MVPs\"], \"All-Stars\": awards[\"All-Stars\"], \"Championships\": awards[\"Championships\"],\n",
        "            \"Hall_of_Fame\": hof_status\n",
        "        }\n",
        "\n",
        "        return pd.DataFrame([features])\n",
        "\n",
        "    except Exception as e:\n",
        "        print(f\"Error fetching data for Player {player_id}: {e}\")\n",
        "        return None\n",
        "\n",
        "# dataset for selected players\n",
        "dataset = pd.concat([get_player_data(pid) for _, pid in players if get_player_data(pid) is not None], ignore_index=True)\n",
        "\n",
        "# Save dataset for reuse\n",
        "dataset.to_csv(\"small_nba_dataset.csv\", index=False)\n",
        "print(\"✅ Small NBA dataset saved to 'small_nba_dataset.csv'\")\n",
        "\n",
        "# Display first rows\n",
        "print(dataset.to_string())"
      ],
      "metadata": {
        "colab": {
          "base_uri": "https://localhost:8080/"
        },
        "id": "ihwUMv6pmwCw",
        "outputId": "6159aa12-1f77-4275-9f12-8a74441da205"
      },
      "execution_count": 5,
      "outputs": [
        {
          "output_type": "stream",
          "name": "stdout",
          "text": [
            "✅ Small NBA dataset saved to 'small_nba_dataset.csv'\n",
            "   Player_ID      PTS/G      REB/G     AST/G       FG%  Seasons_Played  MVPs  All-Stars  Championships  Hall_of_Fame\n",
            "0        893  28.207317   6.512195  5.865854  0.515077              15     5         17              6             1\n",
            "1       2544  20.936709   5.468354  5.886076  0.416890              22     4         23              4             1\n",
            "2       1495  21.109756  11.914634  2.731707  0.548563              19     2         16              5             1\n",
            "3      78318  17.013889   2.902778  7.847222  0.424157              13     0         14              2             1\n",
            "4     201939  17.487500   4.450000  5.900000  0.461942              16     2         12              4             1\n",
            "5     203999   9.950000   7.000000  2.362500  0.511667              10     3          6              1             1\n",
            "6    1628369  13.900000   5.025000  1.600000  0.475449               8     0          6              1             1\n",
            "7      78326  25.914634   4.073171  4.109756  0.506765               8     0          5              0             0\n",
            "8     203507   6.818182   4.402597  1.948052  0.413876              12     2          8              1             1\n",
            "9     201935   9.907895   3.210526  1.802632  0.403114              16     1         11              0             1\n",
            "10     77264  24.164557   9.506329  2.443038  0.479279              14     0          4              0             0\n",
            "11       977   7.591549   1.859155  1.281690  0.417062              20     1         22              5             1\n",
            "12       959   3.276923   0.969231  2.123077  0.422857              18     2          8              0             1\n",
            "13   1629029  21.194444   7.819444  5.958333  0.426644               7     0          5              0             0\n",
            "14      1717   8.191489   3.446809  1.000000  0.404762              21     1         14              1             1\n",
            "15       708  10.437500   6.262500  1.812500  0.491156              21     1         16              1             1\n",
            "16    202695   7.921875   5.109375  1.093750  0.492574              13     0          7              2             1\n",
            "17      1503   7.046875   4.203125  1.531250  0.449749              15     0          7              0             1\n",
            "18   1628983  10.841463   2.829268  3.292683  0.476257               7     0          2              0             0\n",
            "19     77142  18.012987   7.740260  7.311688  0.530032              13     3         14              5             1\n",
            "20      1449  21.280488  10.390244  4.512195  0.473684              13     3         13              3             1\n",
            "21     76003  28.792683  14.512195  4.109756  0.518232              20     6         19              6             1\n"
          ]
        }
      ]
    },
    {
      "cell_type": "markdown",
      "source": [
        "DATASET FOR ML MVP PREDICTOR , CAN EDIT SAMPLE PLAYERS (For example high perfroming non mvps, role players, etc)\n",
        "\n",
        "\n",
        "Will take about **2 minutes** to execute"
      ],
      "metadata": {
        "id": "aMqGR7l8n64E"
      }
    },
    {
      "cell_type": "code",
      "source": [
        "import pandas as pd\n",
        "from sklearn.model_selection import train_test_split\n",
        "from sklearn.ensemble import RandomForestClassifier\n",
        "from sklearn.metrics import accuracy_score, classification_report\n",
        "\n",
        "dataset = pd.read_csv(\"small_nba_dataset.csv\")\n",
        "\n",
        "X = dataset.drop(columns=[\"Player_ID\", \"MVPs\"]) #drop the answer!!!\n",
        "y = (dataset[\"MVPs\"] > 0).astype(int)\n",
        "\n",
        "# split data to train and test\n",
        "X_train, X_test, y_train, y_test = train_test_split(X, y, test_size=0.2, random_state=42)\n",
        "\n",
        "model = RandomForestClassifier(n_estimators=100, random_state=42)\n",
        "model.fit(X_train, y_train)\n",
        "\n",
        "#predict\n",
        "y_pred = model.predict(X_test)\n",
        "\n",
        "# Evaluate\n",
        "accuracy = accuracy_score(y_test, y_pred)\n",
        "print(f\"✅ Model Accuracy: {accuracy:.2f}\")\n",
        "print(classification_report(y_test, y_pred))\n"
      ],
      "metadata": {
        "colab": {
          "base_uri": "https://localhost:8080/"
        },
        "id": "eDmxihPPoNFC",
        "outputId": "8bfde8f4-f45f-418f-93d2-a80a1fe9c989"
      },
      "execution_count": 6,
      "outputs": [
        {
          "output_type": "stream",
          "name": "stdout",
          "text": [
            "✅ Model Accuracy: 0.80\n",
            "              precision    recall  f1-score   support\n",
            "\n",
            "           0       0.50      1.00      0.67         1\n",
            "           1       1.00      0.75      0.86         4\n",
            "\n",
            "    accuracy                           0.80         5\n",
            "   macro avg       0.75      0.88      0.76         5\n",
            "weighted avg       0.90      0.80      0.82         5\n",
            "\n"
          ]
        }
      ]
    }
  ]
}